{
 "cells": [
  {
   "cell_type": "code",
   "execution_count": 1,
   "id": "9e884665-5ba8-475e-ba7d-3b7bc462c68a",
   "metadata": {},
   "outputs": [],
   "source": [
    "from pyspark.sql import SparkSession\n",
    "import pyspark.sql.functions as F"
   ]
  },
  {
   "cell_type": "code",
   "execution_count": 2,
   "id": "d2248e0a-3e91-4fe8-846c-794f949c1bba",
   "metadata": {},
   "outputs": [],
   "source": [
    "BOOTSTRAP_SERVERS = \"confluent-local-broker-1:51169\"\n",
    "TOPIC = \"server_logs\""
   ]
  },
  {
   "cell_type": "code",
   "execution_count": 3,
   "id": "df180c0e-bf41-4954-8ced-b28d6111af3a",
   "metadata": {},
   "outputs": [],
   "source": [
    "spark = SparkSession.builder.appName('ServerLogsConsumer').getOrCreate()"
   ]
  },
  {
   "cell_type": "code",
   "execution_count": 4,
   "id": "f94fdffd-648b-450d-9be0-4430983e32e3",
   "metadata": {},
   "outputs": [],
   "source": [
    "def test(df, sleep_time=5, output_mode='append'):\n",
    "    import time\n",
    "    query = df.writeStream.outputMode(output_mode).format('console').options(truncate=False).start()\n",
    "    time.sleep(sleep_time)\n",
    "    query.stop()"
   ]
  },
  {
   "cell_type": "code",
   "execution_count": 5,
   "id": "efdbbaf5-803c-46cd-bbfe-6cae96a166bc",
   "metadata": {},
   "outputs": [],
   "source": [
    "kafka_stream_df = (\n",
    "    spark.readStream\n",
    "    .format(\"kafka\")\n",
    "    .option(\"kafka.bootstrap.servers\", BOOTSTRAP_SERVERS)\n",
    "    .option(\"subscribe\", TOPIC)\n",
    "    .load()\n",
    ")"
   ]
  },
  {
   "cell_type": "code",
   "execution_count": 6,
   "id": "dba4ebe7-6570-47f2-8b6e-9899ea7605f5",
   "metadata": {},
   "outputs": [],
   "source": [
    "df = kafka_stream_df.select(kafka_stream_df.value.cast('string').alias('data'))\n",
    "df = df.select(F.regexp_replace(F.col('data'), r'[\\[\\]\"]', \"\").alias('cleaned_data'))\n",
    "df = df.select(F.split(df.cleaned_data, ' ').alias('data'))\n",
    "df = df.select(\n",
    "    F.col('data').getItem(0).cast('string').alias('ip_address'),\n",
    "    F.col('data').getItem(1).cast('string').alias('user_name'),\n",
    "    F.col('data').getItem(2).cast('int').alias('user_id'),\n",
    "    F.col('data').getItem(3).cast('timestamp').alias('timestamp'),\n",
    "    F.col('data').getItem(4).cast('string').alias('http_method'),\n",
    "    F.col('data').getItem(5).cast('string').alias('path'),\n",
    "    F.col('data').getItem(6).cast('int').alias('status_code')\n",
    ")\n",
    "test(df)"
   ]
  },
  {
   "cell_type": "code",
   "execution_count": null,
   "id": "1df08675-e57e-4e4d-b0ab-763ea30543ee",
   "metadata": {},
   "outputs": [],
   "source": []
  },
  {
   "cell_type": "code",
   "execution_count": 7,
   "id": "cf2fbd8f-0bc0-4dc3-a3eb-698cde2abc06",
   "metadata": {},
   "outputs": [],
   "source": [
    "DB_HOST = 'aws-0-us-east-1.pooler.supabase.com'\n",
    "DB_NAME = 'postgres'\n",
    "DB_PORT = '6543'\n",
    "DB_USERNAME = 'postgres.xpiejfrzvryejvjecyrv'\n",
    "DB_PASSWORD = 'Aryasupa2528#!'\n",
    "DB_URL = f'jdbc:postgresql://{DB_HOST}:{DB_PORT}/{DB_NAME}?prepareThreshold=0'\n",
    "DB_PROPERTIES = {'user': DB_USERNAME, 'password': DB_PASSWORD, 'driver': 'org.postgresql.Driver'}"
   ]
  },
  {
   "cell_type": "code",
   "execution_count": 15,
   "id": "aaf4721a-ef24-4023-969b-43be29f8eff7",
   "metadata": {},
   "outputs": [],
   "source": [
    "def write_to_postgres(df, table_name: str, write_mode='append', output_mode: str = 'append'):\n",
    "    write = lambda df, epoch_id: df.write.jdbc(url=DB_URL, table=table_name, mode=write_mode, properties=DB_PROPERTIES)\n",
    "    return df.writeStream.foreachBatch(write).outputMode(output_mode).start()"
   ]
  },
  {
   "cell_type": "code",
   "execution_count": 16,
   "id": "6d7bccff-1429-4847-802e-64f543dff4f0",
   "metadata": {},
   "outputs": [],
   "source": [
    "query = df.writeStream.foreachBatch(write_to_postgres).outputMode('append').start()"
   ]
  },
  {
   "cell_type": "code",
   "execution_count": 17,
   "id": "d3d0fc3c-8e8b-41a9-9e97-d09f7e61c2b2",
   "metadata": {},
   "outputs": [],
   "source": [
    "query.stop()"
   ]
  },
  {
   "cell_type": "code",
   "execution_count": 18,
   "id": "bc3cfc72-f826-40ac-8fe3-e9a7427c4984",
   "metadata": {},
   "outputs": [],
   "source": [
    "errors_df = df.filter(F.col('status_code') != 200)\n",
    "count_col = lambda code: F.count_if(F.col('status_code') == code).alias(f'{code}_errors')\n",
    "errors_df = errors_df.select(count_col(500), count_col(404), F.count('status_code').alias('total_errors'))\n",
    "test(errors_df, output_mode='complete', sleep_time=30)"
   ]
  },
  {
   "cell_type": "code",
   "execution_count": 20,
   "id": "a1193882-c76f-4c8d-aefd-51349da6e56d",
   "metadata": {},
   "outputs": [],
   "source": [
    "query = write_to_postgres(errors_df, 'errors_by_path', write_mode='overwrite', output_mode='complete')"
   ]
  },
  {
   "cell_type": "code",
   "execution_count": 21,
   "id": "d6fa7fa2-cb7c-47c1-9426-415fed123e68",
   "metadata": {},
   "outputs": [],
   "source": [
    "query.stop()"
   ]
  },
  {
   "cell_type": "code",
   "execution_count": 22,
   "id": "6753af55-6588-4c61-b3f5-c37ca9a1b753",
   "metadata": {},
   "outputs": [],
   "source": [
    "window_duration = '1 minute'\n",
    "window_df = (\n",
    "    df.groupBy(F.window('timestamp', window_duration), 'ip_address')\n",
    "    .agg(F.count('ip_address').alias('count'))\n",
    "    .select(\n",
    "        F.col('window.start').alias('window_start'),\n",
    "        F.col('window.end').alias('window_end'),\n",
    "        'ip_address',\n",
    "        'count'\n",
    "    ).withColumn('dos_attack', F.col('count') > 100)\n",
    "    .orderBy(F.desc('window_start'))\n",
    ")\n",
    "test(window_df, output_mode='complete', sleep_time=30)"
   ]
  },
  {
   "cell_type": "code",
   "execution_count": null,
   "id": "35756c29-0f2f-4957-bbfd-54bfd42ceac0",
   "metadata": {},
   "outputs": [],
   "source": []
  }
 ],
 "metadata": {
  "kernelspec": {
   "display_name": "Python 3 (ipykernel)",
   "language": "python",
   "name": "python3"
  },
  "language_info": {
   "codemirror_mode": {
    "name": "ipython",
    "version": 3
   },
   "file_extension": ".py",
   "mimetype": "text/x-python",
   "name": "python",
   "nbconvert_exporter": "python",
   "pygments_lexer": "ipython3",
   "version": "3.11.6"
  }
 },
 "nbformat": 4,
 "nbformat_minor": 5
}
